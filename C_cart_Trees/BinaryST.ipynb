{
 "cells": [
  {
   "cell_type": "code",
   "execution_count": 3,
   "id": "f059a838",
   "metadata": {},
   "outputs": [],
   "source": [
    "class Node:\n",
    "    def __init__(self, info):\n",
    "        self.info = info\n",
    "        self.left = None\n",
    "        self.right = None\n",
    "        self.level = None\n",
    "\n",
    "    def __str__(self):\n",
    "        return str(self.info)\n",
    "\n",
    "\n",
    "def preOrder(root):\n",
    "    if root is None:\n",
    "        return\n",
    "    print(root.info, end=' ')\n",
    "    preOrder(root.left)\n",
    "    preOrder(root.right)\n",
    "\n",
    "\n",
    "class BinaryTree:\n",
    "    def __init__(self):\n",
    "        self.root = None\n",
    "\n",
    "    def insert(self, val):\n",
    "        if self.root is None:\n",
    "            self.root = Node(val)\n",
    "            return\n",
    "        root = self.root\n",
    "        while True:\n",
    "            if val < root.info:\n",
    "                if root.left is not None:\n",
    "                    root = root.left\n",
    "                else:\n",
    "                    root.left = Node(val)\n",
    "                    break\n",
    "            elif val > root.info:\n",
    "                if root.right is not None:\n",
    "                    root = root.right\n",
    "                else:\n",
    "                    root.right = Node(val)\n",
    "                    break\n",
    "           \n",
    "tree=BinaryTree()           \n"
   ]
  },
  {
   "cell_type": "code",
   "execution_count": null,
   "id": "55cb0a5e",
   "metadata": {},
   "outputs": [],
   "source": []
  }
 ],
 "metadata": {
  "kernelspec": {
   "display_name": "dsa_env",
   "language": "python",
   "name": "python3"
  },
  "language_info": {
   "codemirror_mode": {
    "name": "ipython",
    "version": 3
   },
   "file_extension": ".py",
   "mimetype": "text/x-python",
   "name": "python",
   "nbconvert_exporter": "python",
   "pygments_lexer": "ipython3",
   "version": "3.13.3"
  }
 },
 "nbformat": 4,
 "nbformat_minor": 5
}
