{
 "cells": [
  {
   "cell_type": "markdown",
   "id": "c2844352",
   "metadata": {},
   "source": [
    "Circular Singly linked list\n"
   ]
  },
  {
   "cell_type": "code",
   "execution_count": 4,
   "id": "7e101101",
   "metadata": {},
   "outputs": [
    {
     "name": "stdout",
     "output_type": "stream",
     "text": [
      "Circular Linked List is Emtpy \n",
      "10 --> 10\n",
      "20 --> 10 --> 20\n",
      "30 --> 20 --> 10 --> 30\n"
     ]
    }
   ],
   "source": [
    "class Node: \n",
    "    def __init__(self,data):\n",
    "        self.data=data\n",
    "        self.next=None\n",
    "        \n",
    "class CLL:\n",
    "    def __init__(self):\n",
    "        self.head=None\n",
    "        self.tail=None\n",
    "        \n",
    "    def display(self):\n",
    "        if self.head is None:\n",
    "            print(\"Circular Linked List is Emtpy \")\n",
    "        else:\n",
    "            temp=self.head      \n",
    "            print(temp.data, \"-->\",end=\" \")\n",
    "            while temp.next!=self.head:\n",
    "                temp=temp.next\n",
    "                print(temp.data, \"-->\", end=\" \")\n",
    "            print(temp.next.data)     \n",
    "            \n",
    "    def add_begin(self,x):\n",
    "        new=Node(x)\n",
    "        if self.head is None:\n",
    "            self.head=new\n",
    "            self.tail=new\n",
    "            self.tail.next=self.head\n",
    "        else:\n",
    "            new.next=self.head    \n",
    "            self.tail.next=new\n",
    "            self.head=new\n",
    "            \n",
    "L=CLL()               \n",
    "L.display()   \n",
    "\n",
    "L.add_begin(10)\n",
    "L.display()\n",
    "\n",
    "L.add_begin(20)\n",
    "L.display()\n",
    "\n",
    "L.add_begin(30)\n",
    "L.display()"
   ]
  },
  {
   "cell_type": "code",
   "execution_count": null,
   "id": "a3b64912",
   "metadata": {},
   "outputs": [],
   "source": []
  }
 ],
 "metadata": {
  "kernelspec": {
   "display_name": "dsa_env",
   "language": "python",
   "name": "python3"
  },
  "language_info": {
   "codemirror_mode": {
    "name": "ipython",
    "version": 3
   },
   "file_extension": ".py",
   "mimetype": "text/x-python",
   "name": "python",
   "nbconvert_exporter": "python",
   "pygments_lexer": "ipython3",
   "version": "3.13.3"
  }
 },
 "nbformat": 4,
 "nbformat_minor": 5
}
