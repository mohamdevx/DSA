{
 "cells": [
  {
   "cell_type": "code",
   "execution_count": 1,
   "id": "90f8d72c",
   "metadata": {},
   "outputs": [],
   "source": [
    "class Queue:\n",
    "    def __init__(self):\n",
    "        self.size=5\n",
    "        self.q=list(range(self.size))\n",
    "        self.i=0\n",
    "        self.o=0\n",
    "        \n",
    "        self.is_empty=True\n",
    "        self.is_full=False"
   ]
  },
  {
   "cell_type": "code",
   "execution_count": 2,
   "id": "a29bd449",
   "metadata": {},
   "outputs": [],
   "source": [
    "q=Queue()"
   ]
  },
  {
   "cell_type": "code",
   "execution_count": 17,
   "id": "81a01e9f",
   "metadata": {},
   "outputs": [],
   "source": [
    "def _inc(self, val):\n",
    "    if idx + 1 == self.size:\n",
    "        return 0\n",
    "    else:\n",
    "        return idx + 1\n",
    "Queue._inc = _inc"
   ]
  },
  {
   "cell_type": "code",
   "execution_count": 3,
   "id": "47f69be3",
   "metadata": {},
   "outputs": [],
   "source": [
    "def enqueue(self,val):\n",
    "    if self.is_full:\n",
    "        raise IndexError(\"Queue ful .Cannot enqueue.\")\n",
    "    \n",
    "    self.q[self.i]=val\n",
    "    self.i=self._inc(self.i)\n",
    "    \n",
    "    if self.i==self.o:\n",
    "        self.is_full=True\n",
    "        \n",
    "        \n",
    "    self.is_empty=False\n",
    "    \n",
    "    \n",
    "Queue.enqueue=enqueue\n",
    "        \n",
    "        "
   ]
  },
  {
   "cell_type": "code",
   "execution_count": 5,
   "id": "ac8bb9e1",
   "metadata": {},
   "outputs": [],
   "source": [
    "def dequeue(self):\n",
    "    if self.is_empty:\n",
    "        raise IndexError(\"Queue empty. Cannot dequeue.\")\n",
    "    ret = self.q[self.o]\n",
    "    self.o = self._inc(self.o)\n",
    "    \n",
    "    if self.i == self.o:\n",
    "        self.is_empty = True\n",
    "        \n",
    "        \n",
    "    self.is_full = False\n",
    "    return ret\n",
    "\n",
    "Queue.dequeue = dequeue"
   ]
  },
  {
   "cell_type": "code",
   "execution_count": 6,
   "id": "81603662",
   "metadata": {},
   "outputs": [],
   "source": [
    "def __str__(self):\n",
    "    return str(self.q) + \" , in:\"+ str(self.i) + \",out: \" +str(self.o)\n",
    "Queue.__str__=__str__\n",
    "\n"
   ]
  },
  {
   "cell_type": "code",
   "execution_count": 10,
   "id": "46eb5596",
   "metadata": {},
   "outputs": [
    {
     "name": "stdout",
     "output_type": "stream",
     "text": [
      "[10, 20, 30, 40, 50] , in:0,out: 0\n",
      "10\n",
      "[110, 20, 30, 40, 50] , in:1,out: 1\n"
     ]
    }
   ],
   "source": [
    "q=Queue()\n",
    "q.enqueue(10)\n",
    "q.enqueue(20)\n",
    "q.enqueue(30)\n",
    "q.enqueue(40)\n",
    "q.enqueue(50)\n",
    "print(q) \n",
    "\n",
    "\n",
    "print(q.dequeue())\n",
    "q.enqueue(110)\n",
    "print(q)\n"
   ]
  },
  {
   "cell_type": "code",
   "execution_count": 15,
   "id": "b421a812",
   "metadata": {},
   "outputs": [
    {
     "name": "stdout",
     "output_type": "stream",
     "text": [
      "[10, 20, 30, 40]\n",
      "10\n",
      "[20, 30, 40]\n"
     ]
    }
   ],
   "source": [
    "class queue:\n",
    "    def __init__(self):\n",
    "        self.values=[]\n",
    "        \n",
    "    def enqueue(self,x):\n",
    "        self.values.append(x)\n",
    "    def dequeue(self):\n",
    "        front=self.values[0]\n",
    "        self.values=self.values[1:]\n",
    "        return front\n",
    "    \n",
    "q1=queue()\n",
    "q1.enqueue(10)\n",
    "q1.enqueue(20)\n",
    "q1.enqueue(30)\n",
    "q1.enqueue(40)\n",
    "print(q1.values)\n",
    "print(q1.dequeue())\n",
    "print(q1.values)"
   ]
  },
  {
   "cell_type": "code",
   "execution_count": null,
   "id": "731f26ad",
   "metadata": {},
   "outputs": [],
   "source": []
  }
 ],
 "metadata": {
  "kernelspec": {
   "display_name": "dsa_env",
   "language": "python",
   "name": "python3"
  },
  "language_info": {
   "codemirror_mode": {
    "name": "ipython",
    "version": 3
   },
   "file_extension": ".py",
   "mimetype": "text/x-python",
   "name": "python",
   "nbconvert_exporter": "python",
   "pygments_lexer": "ipython3",
   "version": "3.13.3"
  }
 },
 "nbformat": 4,
 "nbformat_minor": 5
}
