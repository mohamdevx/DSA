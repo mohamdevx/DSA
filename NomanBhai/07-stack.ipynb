{
 "cells": [
  {
   "cell_type": "markdown",
   "id": "70f78d77",
   "metadata": {},
   "source": [
    "Stack\n",
    "A stack is essnetially free in python.Here whathappenswhenweusepython list."
   ]
  },
  {
   "cell_type": "code",
   "execution_count": 10,
   "id": "1e2956a5",
   "metadata": {},
   "outputs": [
    {
     "name": "stdout",
     "output_type": "stream",
     "text": [
      "[12, 5, 55]\n",
      "55\n",
      "5\n",
      "12\n"
     ]
    }
   ],
   "source": [
    "s=[]\n",
    "\n",
    "s.append(12)\n",
    "s.append(5)\n",
    "s.append(55)\n",
    "\n",
    "print(s)\n",
    "\n",
    "# To print the stack after appending, just print(s)\n",
    "print(s.pop())\n",
    "print(s.pop())\n",
    "print(s.pop())\n"
   ]
  },
  {
   "cell_type": "code",
   "execution_count": 12,
   "id": "604e42e5",
   "metadata": {},
   "outputs": [
    {
     "name": "stdout",
     "output_type": "stream",
     "text": [
      "[1, 2, 3]\n",
      "3\n"
     ]
    }
   ],
   "source": [
    "s=[]\n",
    "s.append(1)\n",
    "s.append(2)\n",
    "s.append(3)\n",
    "print(s)\n",
    "print(s[2])"
   ]
  },
  {
   "cell_type": "code",
   "execution_count": 21,
   "id": "ebddb2bd",
   "metadata": {},
   "outputs": [],
   "source": [
    "class Stack:\n",
    "    def __init__(self):\n",
    "        self.l=[]\n",
    "        \n",
    "    def push(self,val):\n",
    "        self.l.append(val)\n",
    "        \n",
    "    def pop(self):\n",
    "        return self.l.pop()\n",
    "    \n",
    "    \n",
    "    def peek(self):\n",
    "        return self.l[-1]"
   ]
  },
  {
   "cell_type": "code",
   "execution_count": 35,
   "id": "4a2bdb6c",
   "metadata": {},
   "outputs": [],
   "source": [
    "\n",
    "s=Stack()\n",
    "s.push(1)\n",
    "s.push(2)\n",
    "s.push(3)\n",
    "\n",
    "\n",
    "# print(s.pop())\n"
   ]
  },
  {
   "cell_type": "code",
   "execution_count": 36,
   "id": "bf0a977b",
   "metadata": {},
   "outputs": [
    {
     "name": "stdout",
     "output_type": "stream",
     "text": [
      "3\n",
      "3\n",
      "2\n",
      "2\n"
     ]
    }
   ],
   "source": [
    "print(s.peek())\n",
    "print(s.pop())\n",
    "print(s.peek())\n",
    "print(s.pop())"
   ]
  },
  {
   "cell_type": "markdown",
   "id": "9c290cc9",
   "metadata": {},
   "source": [
    "case study: bracket matching\n"
   ]
  },
  {
   "cell_type": "code",
   "execution_count": 38,
   "id": "58abe5a8",
   "metadata": {},
   "outputs": [
    {
     "data": {
      "text/plain": [
       "{1: 4, 2: 5, 3: 6}"
      ]
     },
     "execution_count": 38,
     "metadata": {},
     "output_type": "execute_result"
    }
   ],
   "source": [
    "a=[1,2,3]\n",
    "b=[4,5,6]\n",
    "dict(zip(a,b))"
   ]
  },
  {
   "cell_type": "code",
   "execution_count": null,
   "id": "0546f46c",
   "metadata": {},
   "outputs": [],
   "source": [
    "def is_matching(string):\n",
    "    opening='({['\n",
    "    closing=')}]'\n",
    "    mapping=dict(zip(opening,closing))\n",
    "    #print(mapping)\n",
    "    stack=[]\n",
    "    \n",
    "    for c in string:\n",
    "        #case1 \n",
    "        if c not in mapping.values() and c not in mapping.keys():\n",
    "            continue\n",
    "        #case2\n",
    "        if c in mapping:\n",
    "            stack.append(mapping[c])\n",
    "            \n",
    "        #case3\n",
    "        elif len(stack)== 0 or c !=stack.pop():\n",
    "            return False\n",
    "        \n",
    "    return len(stack)==0        \n",
    "            "
   ]
  },
  {
   "cell_type": "code",
   "execution_count": null,
   "id": "74ec6f85",
   "metadata": {},
   "outputs": [
    {
     "data": {
      "text/plain": [
       "False"
      ]
     },
     "execution_count": 44,
     "metadata": {},
     "output_type": "execute_result"
    }
   ],
   "source": [
    "string=\"[[]]{()}\"\n",
    "is_matching(string)"
   ]
  },
  {
   "cell_type": "code",
   "execution_count": 45,
   "id": "08f8b24d",
   "metadata": {},
   "outputs": [],
   "source": [
    "def dec_to_bin(num):\n",
    "    s1=[]\n",
    "    \n",
    "    while num !=0:\n",
    "        remainder=num % 2\n",
    "        num=num //2\n",
    "        s1.append(remainder)\n",
    "    \n",
    "    ret =''    \n",
    "    while s1:\n",
    "        ret +=str(s1.pop())\n",
    "        \n",
    "    return ret        \n",
    "    "
   ]
  },
  {
   "cell_type": "code",
   "execution_count": 47,
   "id": "e73066f7",
   "metadata": {},
   "outputs": [
    {
     "data": {
      "text/plain": [
       "''"
      ]
     },
     "execution_count": 47,
     "metadata": {},
     "output_type": "execute_result"
    }
   ],
   "source": [
    "dec_to_bin(0)"
   ]
  },
  {
   "cell_type": "code",
   "execution_count": null,
   "id": "7c6967d2",
   "metadata": {},
   "outputs": [],
   "source": []
  }
 ],
 "metadata": {
  "kernelspec": {
   "display_name": "dsa_env",
   "language": "python",
   "name": "python3"
  },
  "language_info": {
   "codemirror_mode": {
    "name": "ipython",
    "version": 3
   },
   "file_extension": ".py",
   "mimetype": "text/x-python",
   "name": "python",
   "nbconvert_exporter": "python",
   "pygments_lexer": "ipython3",
   "version": "3.13.3"
  }
 },
 "nbformat": 4,
 "nbformat_minor": 5
}
