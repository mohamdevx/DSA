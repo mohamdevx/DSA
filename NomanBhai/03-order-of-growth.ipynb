{
 "cells": [
  {
   "cell_type": "markdown",
   "metadata": {},
   "source": [
    "Recall fibonacci series:\n",
    "1,1,2,3,5,8,13,..\n",
    "\n",
    "fib(n)=fib(n-1)+fib(n-2)\n",
    "we had two alternatives for computingfib(n)"
   ]
  },
  {
   "cell_type": "code",
   "execution_count": null,
   "metadata": {},
   "outputs": [],
   "source": [
    "def fib1(n):\n",
    "    if n <= 1:\n",
    "        return 1\n",
    "    else: \n",
    "        return fib1(n-1) + fib1(n-2)\n"
   ]
  },
  {
   "cell_type": "code",
   "execution_count": null,
   "metadata": {},
   "outputs": [],
   "source": []
  },
  {
   "cell_type": "code",
   "execution_count": null,
   "metadata": {},
   "outputs": [],
   "source": [
    "def fib2(n):\n",
    "    a=1\n",
    "    b=1\n",
    "    for i in range(n):\n",
    "        a,b=b,a+b\n",
    "    return a"
   ]
  },
  {
   "cell_type": "code",
   "execution_count": null,
   "metadata": {},
   "outputs": [],
   "source": [
    "def compute_times(fn, )"
   ]
  }
 ],
 "metadata": {
  "kernelspec": {
   "display_name": "Python 3",
   "language": "python",
   "name": "python3"
  },
  "language_info": {
   "name": "python",
   "version": "3.13.3"
  }
 },
 "nbformat": 4,
 "nbformat_minor": 2
}
