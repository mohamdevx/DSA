{
 "cells": [
  {
   "cell_type": "code",
   "execution_count": 1,
   "id": "bc543945",
   "metadata": {},
   "outputs": [],
   "source": [
    "class HashMap:\n",
    "    def __init__(self):\n",
    "        self.size=10\n",
    "        self.map=[None] * self.size"
   ]
  },
  {
   "cell_type": "code",
   "execution_count": 2,
   "id": "70da97f0",
   "metadata": {},
   "outputs": [],
   "source": [
    "def _get_hash(self,key):\n",
    "    return key % self.size\n",
    "\n",
    "HashMap._get_hash = _get_hash"
   ]
  },
  {
   "cell_type": "code",
   "execution_count": 3,
   "id": "a95a6347",
   "metadata": {},
   "outputs": [],
   "source": [
    "def add(self,key,value):\n",
    "    key_hash= self._get_hash(key)\n",
    "    key_value = [key, value]\n",
    "    \n",
    "    self.map[key_hash] = key_value\n",
    "    return True\n",
    "\n",
    "HashMap.add = add"
   ]
  },
  {
   "cell_type": "code",
   "execution_count": 9,
   "id": "fd557339",
   "metadata": {},
   "outputs": [],
   "source": [
    "def get(self,key):\n",
    "    key_hash= self._get_hash(key)\n",
    "    if self.map[key_hash] is not None:\n",
    "        for pair in self.map[key_hash]:\n",
    "            if pair[0] == key:\n",
    "                return pair[1]\n",
    "    return None\n",
    "\n",
    "HashMap.get = get"
   ]
  },
  {
   "cell_type": "code",
   "execution_count": 8,
   "id": "59a5cc61",
   "metadata": {},
   "outputs": [],
   "source": [
    "def __str__(self):\n",
    "    ret=\"\"\n",
    "    for i, item in enumerate(self.map):\n",
    "        if item is not None:\n",
    "            ret += str(i) + \": \" + str(item) + \"\\n\"\n",
    "    return ret\n",
    "HashMap.__str__ = __str__"
   ]
  },
  {
   "cell_type": "code",
   "execution_count": null,
   "id": "f4d35960",
   "metadata": {},
   "outputs": [],
   "source": [
    "h= HashMap()"
   ]
  },
  {
   "cell_type": "code",
   "execution_count": 6,
   "id": "fd0d5019",
   "metadata": {},
   "outputs": [
    {
     "data": {
      "text/plain": [
       "True"
      ]
     },
     "execution_count": 6,
     "metadata": {},
     "output_type": "execute_result"
    }
   ],
   "source": [
    "h.add(17,\"seventeen\")\n",
    "h.add(26, \"twenty-six\")\n",
    "h.add(37, \"thirty-seven\")\n",
    "h.add(46, \"forty-six\")"
   ]
  },
  {
   "cell_type": "code",
   "execution_count": 7,
   "id": "8c7cb2d1",
   "metadata": {},
   "outputs": [
    {
     "name": "stdout",
     "output_type": "stream",
     "text": [
      "<__main__.HashMap object at 0x7fd27bf996a0>\n"
     ]
    }
   ],
   "source": [
    "print(h)"
   ]
  },
  {
   "cell_type": "code",
   "execution_count": null,
   "id": "94b82ccf",
   "metadata": {},
   "outputs": [],
   "source": []
  }
 ],
 "metadata": {
  "kernelspec": {
   "display_name": "dsa_env",
   "language": "python",
   "name": "python3"
  },
  "language_info": {
   "codemirror_mode": {
    "name": "ipython",
    "version": 3
   },
   "file_extension": ".py",
   "mimetype": "text/x-python",
   "name": "python",
   "nbconvert_exporter": "python",
   "pygments_lexer": "ipython3",
   "version": "3.13.3"
  }
 },
 "nbformat": 4,
 "nbformat_minor": 5
}
