{
 "cells": [
  {
   "cell_type": "markdown",
   "id": "fa489f8d",
   "metadata": {},
   "source": [
    "Selection sort\n",
    "\n",
    "def selection(arr1):\n",
    "    n=len(arr1)\n",
    "    for i in range(n-1):\n",
    "    mini=i\n",
    "    for j in range(i+1,n):\n",
    "    if arr1[j]<arr1[mini]:\n",
    "    mini=j\n",
    "    arr1[i],arr1[mini]=arr1[mini],arr1[i]\n",
    "\n",
    "    arr1"
   ]
  },
  {
   "cell_type": "code",
   "execution_count": 1,
   "id": "7e9bf833",
   "metadata": {},
   "outputs": [
    {
     "name": "stdout",
     "output_type": "stream",
     "text": [
      "[17, 24, 33, 41, 42]\n"
     ]
    }
   ],
   "source": [
    "def selction(arr1):\n",
    "    n=len(arr1)\n",
    "    for i in range(n-1):\n",
    "        mini=i\n",
    "        for j in range(i+1,n):\n",
    "            if arr1[j]<arr1[mini]:\n",
    "                mini=j\n",
    "                arr1[i],arr1[mini]=arr1[mini],arr1[i]\n",
    "arr1=[24,41,33,42,17]\n",
    "selction(arr1)\n",
    "print(arr1)"
   ]
  },
  {
   "cell_type": "markdown",
   "id": "f070f91b",
   "metadata": {},
   "source": [
    "Bubble sort\n"
   ]
  },
  {
   "cell_type": "code",
   "execution_count": 3,
   "id": "0b809f99",
   "metadata": {},
   "outputs": [
    {
     "name": "stdout",
     "output_type": "stream",
     "text": [
      "Sorted array is : [10, 20, 30, 50]\n"
     ]
    }
   ],
   "source": [
    "def bubble(arr1):\n",
    "    n=len(arr1)\n",
    "    \n",
    "    for i in range(n):\n",
    "        swaped=False\n",
    "        for j in range(0,n-i-1):\n",
    "            if arr1[j]>arr1[j+1]:\n",
    "                arr1[j],arr1[j+1]=arr1[j+1],arr1[j]\n",
    "                swapped=True\n",
    "                \n",
    "        if not swaped:\n",
    "            break\n",
    "arr1=[10,20,30,50]\n",
    "bubble(arr1)\n",
    "print(\"Sorted array is :\", arr1)"
   ]
  },
  {
   "cell_type": "markdown",
   "id": "9ecdb2af",
   "metadata": {},
   "source": [
    "insertion sort"
   ]
  },
  {
   "cell_type": "code",
   "execution_count": 5,
   "id": "91ef0ea0",
   "metadata": {},
   "outputs": [
    {
     "name": "stdout",
     "output_type": "stream",
     "text": [
      "Sorted array is : [5, 6, 11, 12, 13]\n"
     ]
    }
   ],
   "source": [
    "#insertion sort\n",
    "def insertion(arr1):\n",
    "    n = len(arr1)\n",
    "    for i in range(1, n):\n",
    "        key = arr1[i]\n",
    "        j = i - 1\n",
    "        while j >= 0 and key < arr1[j]:\n",
    "            arr1[j + 1] = arr1[j]\n",
    "            j -= 1\n",
    "        arr1[j + 1] = key\n",
    "\n",
    "arr1 = [12, 11, 13, 5, 6]\n",
    "insertion(arr1)\n",
    "print(\"Sorted array is :\", arr1)"
   ]
  },
  {
   "cell_type": "code",
   "execution_count": null,
   "id": "d1b25986",
   "metadata": {},
   "outputs": [],
   "source": []
  }
 ],
 "metadata": {
  "kernelspec": {
   "display_name": "dsa_env",
   "language": "python",
   "name": "python3"
  },
  "language_info": {
   "codemirror_mode": {
    "name": "ipython",
    "version": 3
   },
   "file_extension": ".py",
   "mimetype": "text/x-python",
   "name": "python",
   "nbconvert_exporter": "python",
   "pygments_lexer": "ipython3",
   "version": "3.13.3"
  }
 },
 "nbformat": 4,
 "nbformat_minor": 5
}
