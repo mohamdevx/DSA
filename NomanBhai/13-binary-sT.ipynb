{
 "cells": [
  {
   "cell_type": "code",
   "execution_count": null,
   "id": "80fab266",
   "metadata": {},
   "outputs": [],
   "source": [
    "def fing_root(self):\n",
    "    \"\"\"fin the obsolute root of BST to which self belongs , keep going up\n",
    "    until we find a node that is not a child of self\"\"\"\n",
    "    \n",
    "    temp = self\n",
    "    while temp.parent is not None:\n",
    "        temp= temp.parent\n",
    "    return temp\n",
    "\n",
    "BST"
   ]
  }
 ],
 "metadata": {
  "language_info": {
   "name": "python"
  }
 },
 "nbformat": 4,
 "nbformat_minor": 5
}
