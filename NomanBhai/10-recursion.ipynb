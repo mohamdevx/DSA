{
 "cells": [
  {
   "cell_type": "markdown",
   "id": "989b7efc",
   "metadata": {},
   "source": [
    "Factorial"
   ]
  },
  {
   "cell_type": "code",
   "execution_count": 2,
   "id": "fbe39f5b",
   "metadata": {},
   "outputs": [],
   "source": [
    "def fact(n):\n",
    "    # base case\n",
    "    if n <= 1:\n",
    "        return 1\n",
    "    # induction\n",
    "    return n * fact(n-1)"
   ]
  },
  {
   "cell_type": "markdown",
   "id": "37fc2db4",
   "metadata": {},
   "source": [
    "Fib"
   ]
  },
  {
   "cell_type": "code",
   "execution_count": 3,
   "id": "252e33ea",
   "metadata": {},
   "outputs": [],
   "source": [
    "def fib(n):\n",
    "    if n<=1:\n",
    "        return 1\n",
    "    \n",
    "    return fib(n-1) + fib(n-2)"
   ]
  },
  {
   "cell_type": "code",
   "execution_count": 7,
   "id": "d1933450",
   "metadata": {},
   "outputs": [],
   "source": [
    "def fib(n):\n",
    "    a,b=1,1\n",
    "    for i in range(n):\n",
    "        a,b=b,a+b\n",
    "    print(\"iteratvie\")    \n",
    "    return a\n",
    "    "
   ]
  },
  {
   "cell_type": "code",
   "execution_count": 8,
   "id": "ee192de4",
   "metadata": {},
   "outputs": [
    {
     "name": "stdout",
     "output_type": "stream",
     "text": [
      "iteratvie\n"
     ]
    },
    {
     "data": {
      "text/plain": [
       "8"
      ]
     },
     "execution_count": 8,
     "metadata": {},
     "output_type": "execute_result"
    }
   ],
   "source": [
    "fib(5)"
   ]
  },
  {
   "cell_type": "code",
   "execution_count": 10,
   "id": "0ae310f4",
   "metadata": {},
   "outputs": [],
   "source": [
    "# both iterative and recursive (tail recursion)\n",
    "def fib(n, a=0, b=1):\n",
    "    if n == 0:\n",
    "        return a\n",
    "    \n",
    "    return fib(n-1, b, a+b)"
   ]
  },
  {
   "cell_type": "markdown",
   "id": "7e256cdc",
   "metadata": {},
   "source": [
    "tower of Hanoi"
   ]
  },
  {
   "cell_type": "code",
   "execution_count": null,
   "id": "f79efc49",
   "metadata": {},
   "outputs": [],
   "source": [
    "def tower_of_hanoi(levels=3):\n",
    "    move_tower(levels,'A','C','B')\n",
    "    \n",
    "    \n",
    "def move_tower(l,fr,to,ax):\n",
    "    if l==1:\n",
    "        print_move(l,fr,to)\n",
    "        return\n",
    "    \n",
    "    move_tower(l-1,fr,ax,to)\n",
    "    print_move(l,fr,to)\n",
    "    move_tower(l-1,ax,to,fr)\n",
    "    \n",
    "def print_move(l,fr,to):\n",
    "    print(\"Move: \", l, \"from\", fr, \"to\" , to)"
   ]
  },
  {
   "cell_type": "code",
   "execution_count": 2,
   "id": "cfd8bdb5",
   "metadata": {},
   "outputs": [
    {
     "name": "stdout",
     "output_type": "stream",
     "text": [
      "Move:  1 from A to B\n",
      "Move:  2 from A to C\n",
      "Move:  1 from B to C\n"
     ]
    }
   ],
   "source": [
    "tower_of_hanoi(2)"
   ]
  },
  {
   "cell_type": "markdown",
   "id": "dce66309",
   "metadata": {},
   "source": [
    "Sum Over a List"
   ]
  },
  {
   "cell_type": "code",
   "execution_count": null,
   "id": "fb0f48ce",
   "metadata": {},
   "outputs": [],
   "source": [
    "def sum_list(l): #iterative\n",
    "    sum=0\n",
    "    for i in l:\n",
    "        sum+=i\n",
    "    return sum"
   ]
  },
  {
   "cell_type": "code",
   "execution_count": 4,
   "id": "7df4cc65",
   "metadata": {},
   "outputs": [],
   "source": [
    "l=[1,23,3,5,5]\n"
   ]
  },
  {
   "cell_type": "code",
   "execution_count": 5,
   "id": "7222442c",
   "metadata": {},
   "outputs": [
    {
     "data": {
      "text/plain": [
       "37"
      ]
     },
     "execution_count": 5,
     "metadata": {},
     "output_type": "execute_result"
    }
   ],
   "source": [
    "sum_list(l)"
   ]
  },
  {
   "cell_type": "code",
   "execution_count": null,
   "id": "1724d711",
   "metadata": {},
   "outputs": [],
   "source": [
    "def sum_list_recursive(l): #recursive\n",
    "    if len(l)==0: return 0\n",
    "    \n",
    "    return [0] +sum_list_recursive(l[1:])"
   ]
  },
  {
   "cell_type": "code",
   "execution_count": null,
   "id": "d319bdad",
   "metadata": {},
   "outputs": [],
   "source": []
  }
 ],
 "metadata": {
  "kernelspec": {
   "display_name": "dsa_env",
   "language": "python",
   "name": "python3"
  },
  "language_info": {
   "codemirror_mode": {
    "name": "ipython",
    "version": 3
   },
   "file_extension": ".py",
   "mimetype": "text/x-python",
   "name": "python",
   "nbconvert_exporter": "python",
   "pygments_lexer": "ipython3",
   "version": "3.13.3"
  }
 },
 "nbformat": 4,
 "nbformat_minor": 5
}
