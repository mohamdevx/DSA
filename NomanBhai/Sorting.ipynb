{
 "cells": [
  {
   "cell_type": "markdown",
   "id": "f68a3d75",
   "metadata": {},
   "source": [
    "bubble sort\n"
   ]
  },
  {
   "cell_type": "code",
   "execution_count": null,
   "id": "0c18f40b",
   "metadata": {},
   "outputs": [
    {
     "name": "stdout",
     "output_type": "stream",
     "text": [
      "Sorted array is: [11, 12, 22, 25, 34, 64, 90]\n"
     ]
    }
   ],
   "source": [
    "# Bubble Sort\n",
    "def bubble_sort(l):\n",
    "    n = len(l)\n",
    "    for i in range(n): \n",
    "        for j in range(0, n - i - 1):\n",
    "            if l[j] > l[j + 1]:\n",
    "                # Swap if the element is greater than the next\n",
    "                l[j], l[j + 1] = l[j + 1], l[j]\n",
    "\n",
    "# Test the function\n",
    "l = [64, 34, 25, 12, 22, 11, 90] \n",
    "bubble_sort(l)\n",
    "print(\"Sorted array is:\", l)\n"
   ]
  },
  {
   "cell_type": "code",
   "execution_count": null,
   "id": "1636847d",
   "metadata": {},
   "outputs": [
    {
     "ename": "TypeError",
     "evalue": "'>' not supported between instances of 'list' and 'int'",
     "output_type": "error",
     "traceback": [
      "\u001b[31m---------------------------------------------------------------------------\u001b[39m",
      "\u001b[31mTypeError\u001b[39m                                 Traceback (most recent call last)",
      "\u001b[36mCell\u001b[39m\u001b[36m \u001b[39m\u001b[32mIn[2]\u001b[39m\u001b[32m, line 2\u001b[39m\n\u001b[32m      1\u001b[39m l=[\u001b[32m64\u001b[39m, \u001b[32m34\u001b[39m, \u001b[32m25\u001b[39m, \u001b[32m12\u001b[39m, \u001b[32m22\u001b[39m, \u001b[32m11\u001b[39m, \u001b[32m90\u001b[39m]\n\u001b[32m----> \u001b[39m\u001b[32m2\u001b[39m \u001b[43mbubble_sort\u001b[49m\u001b[43m(\u001b[49m\u001b[43ml\u001b[49m\u001b[43m)\u001b[49m\n\u001b[32m      3\u001b[39m \u001b[38;5;28mprint\u001b[39m(\u001b[33m\"\u001b[39m\u001b[33mSorted array is:\u001b[39m\u001b[33m\"\u001b[39m, l)\n",
      "\u001b[36mCell\u001b[39m\u001b[36m \u001b[39m\u001b[32mIn[1]\u001b[39m\u001b[32m, line 10\u001b[39m, in \u001b[36mbubble_sort\u001b[39m\u001b[34m(l)\u001b[39m\n\u001b[32m      6\u001b[39m \u001b[38;5;28;01mfor\u001b[39;00m i \u001b[38;5;129;01min\u001b[39;00m \u001b[38;5;28mrange\u001b[39m(n):\n\u001b[32m      8\u001b[39m     \u001b[38;5;28;01mfor\u001b[39;00m j \u001b[38;5;129;01min\u001b[39;00m \u001b[38;5;28mrange\u001b[39m(\u001b[32m0\u001b[39m,(n-i)-\u001b[32m1\u001b[39m):\n\u001b[32m---> \u001b[39m\u001b[32m10\u001b[39m         \u001b[38;5;28;01mif\u001b[39;00m \u001b[43m[\u001b[49m\u001b[43mj\u001b[49m\u001b[43m]\u001b[49m\u001b[43m>\u001b[49m\u001b[43m \u001b[49m\u001b[43ml\u001b[49m\u001b[43m[\u001b[49m\u001b[43mj\u001b[49m\u001b[43m+\u001b[49m\u001b[32;43m1\u001b[39;49m\u001b[43m]\u001b[49m:\n\u001b[32m     11\u001b[39m             l[j], l[j+\u001b[32m1\u001b[39m] = l[j+\u001b[32m1\u001b[39m], l[j]\n",
      "\u001b[31mTypeError\u001b[39m: '>' not supported between instances of 'list' and 'int'"
     ]
    }
   ],
   "source": []
  },
  {
   "cell_type": "code",
   "execution_count": null,
   "id": "b2916dc2",
   "metadata": {},
   "outputs": [],
   "source": []
  }
 ],
 "metadata": {
  "kernelspec": {
   "display_name": "dsa_env",
   "language": "python",
   "name": "python3"
  },
  "language_info": {
   "codemirror_mode": {
    "name": "ipython",
    "version": 3
   },
   "file_extension": ".py",
   "mimetype": "text/x-python",
   "name": "python",
   "nbconvert_exporter": "python",
   "pygments_lexer": "ipython3",
   "version": "3.13.3"
  }
 },
 "nbformat": 4,
 "nbformat_minor": 5
}
