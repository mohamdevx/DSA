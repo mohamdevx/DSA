{
 "cells": [
  {
   "cell_type": "code",
   "execution_count": 2,
   "id": "3b8ec35c",
   "metadata": {},
   "outputs": [
    {
     "name": "stdout",
     "output_type": "stream",
     "text": [
      "List: [3, 5, 6]\n",
      "Maximum: 6\n",
      "Minimum: 3\n"
     ]
    }
   ],
   "source": [
    "#max min\n",
    "l=[3,5,6]\n",
    "#using own logic find max and min in a linked list\n",
    "\n",
    "def find_max_min(lst):\n",
    "    if len(lst)==0:"
   ]
  },
  {
   "cell_type": "code",
   "execution_count": null,
   "id": "0555d490",
   "metadata": {},
   "outputs": [],
   "source": []
  }
 ],
 "metadata": {
  "kernelspec": {
   "display_name": "dsa_env",
   "language": "python",
   "name": "python3"
  },
  "language_info": {
   "codemirror_mode": {
    "name": "ipython",
    "version": 3
   },
   "file_extension": ".py",
   "mimetype": "text/x-python",
   "name": "python",
   "nbconvert_exporter": "python",
   "pygments_lexer": "ipython3",
   "version": "3.13.3"
  }
 },
 "nbformat": 4,
 "nbformat_minor": 5
}
