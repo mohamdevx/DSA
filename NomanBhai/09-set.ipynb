{
 "cells": [
  {
   "cell_type": "markdown",
   "id": "51fe49f4",
   "metadata": {},
   "source": [
    "Set Data Structure"
   ]
  },
  {
   "cell_type": "code",
   "execution_count": 1,
   "id": "adc9526f",
   "metadata": {},
   "outputs": [
    {
     "name": "stdout",
     "output_type": "stream",
     "text": [
      "{'qux', 'foo', 'bar', 'baz'}\n"
     ]
    }
   ],
   "source": [
    "x = set(['foo', 'bar', 'baz', 'foo', 'qux'])\n",
    "print(x)"
   ]
  },
  {
   "cell_type": "code",
   "execution_count": 2,
   "id": "b9b37ead",
   "metadata": {},
   "outputs": [],
   "source": [
    "s=\"quux\"\n",
    "s=set(s)"
   ]
  },
  {
   "cell_type": "code",
   "execution_count": 3,
   "id": "1d8e463f",
   "metadata": {},
   "outputs": [
    {
     "name": "stdout",
     "output_type": "stream",
     "text": [
      "{'q', 'x', 'u'}\n"
     ]
    }
   ],
   "source": [
    "print(s)"
   ]
  },
  {
   "cell_type": "code",
   "execution_count": 4,
   "id": "ec99ad45",
   "metadata": {},
   "outputs": [],
   "source": [
    "x={'foo','bar','baz','foo','qux'}"
   ]
  },
  {
   "cell_type": "code",
   "execution_count": 5,
   "id": "713f7d64",
   "metadata": {},
   "outputs": [
    {
     "name": "stdout",
     "output_type": "stream",
     "text": [
      "{'qux', 'foo', 'bar', 'baz'}\n"
     ]
    }
   ],
   "source": [
    "print(x)"
   ]
  },
  {
   "cell_type": "code",
   "execution_count": 6,
   "id": "7b0b4f4c",
   "metadata": {},
   "outputs": [
    {
     "data": {
      "text/plain": [
       "True"
      ]
     },
     "execution_count": 6,
     "metadata": {},
     "output_type": "execute_result"
    }
   ],
   "source": [
    "'foo' in x"
   ]
  },
  {
   "cell_type": "code",
   "execution_count": 7,
   "id": "d4e3d56e",
   "metadata": {},
   "outputs": [],
   "source": [
    "x1={'foo','bar','baz'}\n",
    "x2={'baz','qux','quux'}"
   ]
  },
  {
   "cell_type": "code",
   "execution_count": 9,
   "id": "50540d87",
   "metadata": {},
   "outputs": [
    {
     "data": {
      "text/plain": [
       "{'bar', 'baz', 'foo', 'quux', 'qux'}"
      ]
     },
     "execution_count": 9,
     "metadata": {},
     "output_type": "execute_result"
    }
   ],
   "source": [
    "x1 | x2 #union"
   ]
  },
  {
   "cell_type": "code",
   "execution_count": 10,
   "id": "2b9b5b55",
   "metadata": {},
   "outputs": [
    {
     "data": {
      "text/plain": [
       "{'bar', 'baz', 'foo', 'quux', 'qux'}"
      ]
     },
     "execution_count": 10,
     "metadata": {},
     "output_type": "execute_result"
    }
   ],
   "source": [
    "x1.union(x2)"
   ]
  },
  {
   "cell_type": "code",
   "execution_count": 11,
   "id": "eb555969",
   "metadata": {},
   "outputs": [
    {
     "data": {
      "text/plain": [
       "{'baz'}"
      ]
     },
     "execution_count": 11,
     "metadata": {},
     "output_type": "execute_result"
    }
   ],
   "source": [
    "x1.intersection(x2)"
   ]
  },
  {
   "cell_type": "code",
   "execution_count": 12,
   "id": "8e6af63e",
   "metadata": {},
   "outputs": [
    {
     "data": {
      "text/plain": [
       "{'bar', 'foo'}"
      ]
     },
     "execution_count": 12,
     "metadata": {},
     "output_type": "execute_result"
    }
   ],
   "source": [
    "x1.difference(x2)"
   ]
  },
  {
   "cell_type": "code",
   "execution_count": 13,
   "id": "4deff98a",
   "metadata": {},
   "outputs": [
    {
     "data": {
      "text/plain": [
       "False"
      ]
     },
     "execution_count": 13,
     "metadata": {},
     "output_type": "execute_result"
    }
   ],
   "source": [
    "x1.isdisjoint(x2)"
   ]
  },
  {
   "cell_type": "code",
   "execution_count": 14,
   "id": "8b95fab4",
   "metadata": {},
   "outputs": [
    {
     "data": {
      "text/plain": [
       "True"
      ]
     },
     "execution_count": 14,
     "metadata": {},
     "output_type": "execute_result"
    }
   ],
   "source": [
    "a={1,2,3}\n",
    "b={5,6,7}\n",
    "a.isdisjoint(b)"
   ]
  },
  {
   "cell_type": "code",
   "execution_count": 17,
   "id": "c6a2b2cb",
   "metadata": {},
   "outputs": [
    {
     "name": "stdout",
     "output_type": "stream",
     "text": [
      "True\n",
      "True\n",
      "False\n"
     ]
    }
   ],
   "source": [
    "a={1,2}\n",
    "b={1,2,3,4,5}\n",
    "c={1,2}\n",
    "\n",
    "print(a.issubset(b))\n",
    "print(a.issubset(c))\n",
    "print(b.issubset(c))"
   ]
  },
  {
   "cell_type": "code",
   "execution_count": 19,
   "id": "e8225169",
   "metadata": {},
   "outputs": [
    {
     "data": {
      "text/plain": [
       "False"
      ]
     },
     "execution_count": 19,
     "metadata": {},
     "output_type": "execute_result"
    }
   ],
   "source": [
    "a<c  #proper subset"
   ]
  },
  {
   "cell_type": "code",
   "execution_count": 22,
   "id": "01d030c6",
   "metadata": {},
   "outputs": [
    {
     "name": "stdout",
     "output_type": "stream",
     "text": [
      "{1, 2, 5}\n"
     ]
    }
   ],
   "source": [
    "a.update([5])\n",
    "print(a)"
   ]
  },
  {
   "cell_type": "code",
   "execution_count": 23,
   "id": "94ccd3f5",
   "metadata": {},
   "outputs": [
    {
     "name": "stdout",
     "output_type": "stream",
     "text": [
      "{2, 5}\n"
     ]
    }
   ],
   "source": [
    "a.remove(1)\n",
    "print(a)"
   ]
  },
  {
   "cell_type": "markdown",
   "id": "f1cc1b9d",
   "metadata": {},
   "source": [
    "All and Any\n"
   ]
  },
  {
   "cell_type": "code",
   "execution_count": 25,
   "id": "0a24c548",
   "metadata": {},
   "outputs": [
    {
     "name": "stdout",
     "output_type": "stream",
     "text": [
      "All constraints satisfied\n"
     ]
    }
   ],
   "source": [
    "a=5\n",
    "b=4\n",
    "if a >2 and a< 10 and b>0 and b<10:\n",
    "    print(\"All constraints satisfied\")"
   ]
  },
  {
   "cell_type": "code",
   "execution_count": 26,
   "id": "1020e0ea",
   "metadata": {},
   "outputs": [],
   "source": [
    "a=5\n",
    "b=4\n",
    "constrainst={a >2, a< 10, b >0 , b<10}"
   ]
  },
  {
   "cell_type": "markdown",
   "id": "397e40ed",
   "metadata": {},
   "source": []
  },
  {
   "cell_type": "code",
   "execution_count": 28,
   "id": "0f2f4185",
   "metadata": {},
   "outputs": [
    {
     "name": "stdout",
     "output_type": "stream",
     "text": [
      "All constraints satified\n"
     ]
    }
   ],
   "source": [
    "if all(constrainst):\n",
    "    print(\"All constraints satified\")"
   ]
  },
  {
   "cell_type": "code",
   "execution_count": 29,
   "id": "71f8e9d0",
   "metadata": {},
   "outputs": [
    {
     "name": "stdout",
     "output_type": "stream",
     "text": [
      "Constraints are not satisfied.\n"
     ]
    }
   ],
   "source": [
    "if any(constrainst):\n",
    "    print(\"Constraints are not satisfied.\")"
   ]
  },
  {
   "cell_type": "markdown",
   "id": "b71257a4",
   "metadata": {},
   "source": [
    "Quantifiers\n"
   ]
  },
  {
   "cell_type": "code",
   "execution_count": 30,
   "id": "4d7b4e65",
   "metadata": {},
   "outputs": [],
   "source": [
    "x={10,20,30,40,50}\n"
   ]
  },
  {
   "cell_type": "code",
   "execution_count": 35,
   "id": "df6ee29e",
   "metadata": {},
   "outputs": [
    {
     "data": {
      "text/plain": [
       "True"
      ]
     },
     "execution_count": 35,
     "metadata": {},
     "output_type": "execute_result"
    }
   ],
   "source": [
    "all([x<51 for x in x])"
   ]
  },
  {
   "cell_type": "code",
   "execution_count": 36,
   "id": "cbaf7842",
   "metadata": {},
   "outputs": [
    {
     "data": {
      "text/plain": [
       "True"
      ]
     },
     "execution_count": 36,
     "metadata": {},
     "output_type": "execute_result"
    }
   ],
   "source": [
    "any([x<50 for x in x])"
   ]
  },
  {
   "cell_type": "code",
   "execution_count": 37,
   "id": "177e00b0",
   "metadata": {},
   "outputs": [],
   "source": [
    "def is_div_by_20(x):\n",
    "    return n%20==0"
   ]
  },
  {
   "cell_type": "code",
   "execution_count": 38,
   "id": "c089d536",
   "metadata": {},
   "outputs": [
    {
     "ename": "NameError",
     "evalue": "name 'n' is not defined",
     "output_type": "error",
     "traceback": [
      "\u001b[31m---------------------------------------------------------------------------\u001b[39m",
      "\u001b[31mNameError\u001b[39m                                 Traceback (most recent call last)",
      "\u001b[36mCell\u001b[39m\u001b[36m \u001b[39m\u001b[32mIn[38]\u001b[39m\u001b[32m, line 1\u001b[39m\n\u001b[32m----> \u001b[39m\u001b[32m1\u001b[39m \u001b[38;5;28many\u001b[39m([\u001b[43mis_div_by_20\u001b[49m\u001b[43m(\u001b[49m\u001b[43mx\u001b[49m\u001b[43m)\u001b[49m \u001b[38;5;28;01mfor\u001b[39;00m x \u001b[38;5;129;01min\u001b[39;00m x ])\n",
      "\u001b[36mCell\u001b[39m\u001b[36m \u001b[39m\u001b[32mIn[37]\u001b[39m\u001b[32m, line 2\u001b[39m, in \u001b[36mis_div_by_20\u001b[39m\u001b[34m(x)\u001b[39m\n\u001b[32m      1\u001b[39m \u001b[38;5;28;01mdef\u001b[39;00m\u001b[38;5;250m \u001b[39m\u001b[34mis_div_by_20\u001b[39m(x):\n\u001b[32m----> \u001b[39m\u001b[32m2\u001b[39m     \u001b[38;5;28;01mreturn\u001b[39;00m \u001b[43mn\u001b[49m%\u001b[32m20\u001b[39m==\u001b[32m0\u001b[39m\n",
      "\u001b[31mNameError\u001b[39m: name 'n' is not defined"
     ]
    }
   ],
   "source": [
    "any([is_div_by_20(x) for x in x ])"
   ]
  },
  {
   "cell_type": "code",
   "execution_count": 39,
   "id": "c1b02e77",
   "metadata": {},
   "outputs": [],
   "source": [
    "#quantifiers\n",
    "x={10,20,30,50,70}\n"
   ]
  },
  {
   "cell_type": "code",
   "execution_count": 41,
   "id": "72ca883c",
   "metadata": {},
   "outputs": [],
   "source": [
    "from collections import Counter\n",
    "cnt = Counter()\n",
    "for word in ['red', 'blue', 'red', 'green', 'blue', 'blue']:\n",
    "    cnt[word] += 1"
   ]
  },
  {
   "cell_type": "code",
   "execution_count": 42,
   "id": "fa5ddf12",
   "metadata": {},
   "outputs": [
    {
     "data": {
      "text/plain": [
       "Counter({'blue': 3, 'red': 2, 'green': 1})"
      ]
     },
     "execution_count": 42,
     "metadata": {},
     "output_type": "execute_result"
    }
   ],
   "source": [
    "cnt"
   ]
  },
  {
   "cell_type": "code",
   "execution_count": 43,
   "id": "22d0a114",
   "metadata": {},
   "outputs": [
    {
     "data": {
      "text/plain": [
       "[('blue', 3), ('red', 2), ('green', 1)]"
      ]
     },
     "execution_count": 43,
     "metadata": {},
     "output_type": "execute_result"
    }
   ],
   "source": [
    "cnt.most_common() "
   ]
  },
  {
   "cell_type": "code",
   "execution_count": null,
   "id": "09df0e2d",
   "metadata": {},
   "outputs": [],
   "source": []
  }
 ],
 "metadata": {
  "kernelspec": {
   "display_name": "dsa_env",
   "language": "python",
   "name": "python3"
  },
  "language_info": {
   "codemirror_mode": {
    "name": "ipython",
    "version": 3
   },
   "file_extension": ".py",
   "mimetype": "text/x-python",
   "name": "python",
   "nbconvert_exporter": "python",
   "pygments_lexer": "ipython3",
   "version": "3.13.3"
  }
 },
 "nbformat": 4,
 "nbformat_minor": 5
}
