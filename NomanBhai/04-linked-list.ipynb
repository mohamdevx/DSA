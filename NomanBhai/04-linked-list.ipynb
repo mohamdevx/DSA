{
 "cells": [
  {
   "cell_type": "markdown",
   "metadata": {},
   "source": [
    "Linked List\n"
   ]
  },
  {
   "cell_type": "markdown",
   "metadata": {},
   "source": [
    "Push\n"
   ]
  },
  {
   "cell_type": "code",
   "execution_count": null,
   "metadata": {},
   "outputs": [
    {
     "name": "stdout",
     "output_type": "stream",
     "text": [
      "Exec: case 1\n",
      "Exec: case 2\n",
      "Exec: case 2\n",
      "[1, 2, 3]\n"
     ]
    }
   ],
   "source": [
    "class Node:\n",
    "    def __init__(self, data=None):\n",
    "        self.val = data\n",
    "        self.next = None\n",
    "\n",
    "class linkedList:\n",
    "    def __init__(self):\n",
    "        self.head = None\n",
    "\n",
    "    def push(self, val):\n",
    "        new_node = Node(val)\n",
    "\n",
    "        if self.head is None:\n",
    "            print(\"Exec: case 1\")\n",
    "            self.head = new_node\n",
    "            return\n",
    "\n",
    "        print(\"Exec: case 2\")\n",
    "        last = self.head\n",
    "        while last.next is not None:\n",
    "            last = last.next\n",
    "\n",
    "        last.next = new_node  # This line must be outside the while loop\n",
    "\n",
    "    def __str__(self):\n",
    "        ret_str = '['\n",
    "        temp = self.head\n",
    "        while temp is not None:\n",
    "            ret_str += str(temp.val) + ', '\n",
    "            temp = temp.next\n",
    "        ret_str = ret_str.rstrip(', ')\n",
    "        ret_str += ']'\n",
    "        return ret_str\n",
    "\n"
   ]
  },
  {
   "cell_type": "markdown",
   "metadata": {},
   "source": [
    "POP"
   ]
  },
  {
   "cell_type": "code",
   "execution_count": 46,
   "metadata": {},
   "outputs": [],
   "source": [
    "def pop(self):\n",
    "    if self.head is None:\n",
    "        raise Exception(\"Cannot pop from an empty list\")\n",
    "    \n",
    "    #case wehre ther is only one node \n",
    "    if self.head.next is None:\n",
    "        print(\"case 1: only one node\")\n",
    "        val=self.head.val\n",
    "        self.head = None\n",
    "        return val\n",
    "    \n",
    "    #case wehr ether is 2 or more nodes\n",
    "    #reach the previous node of the last node\n",
    "    temp=self.head\n",
    "    while temp.next is not None:\n",
    "        print(\"case 2: 2 or more than 2 node\")\n",
    "        prev=temp\n",
    "        temp=temp.next\n",
    "        \n",
    "    val = temp.val \n",
    "    prev.next=None\n",
    "    return val\n",
    "linkedList.pop = pop\n",
    "\n"
   ]
  },
  {
   "cell_type": "code",
   "execution_count": 54,
   "metadata": {},
   "outputs": [
    {
     "name": "stdout",
     "output_type": "stream",
     "text": [
      "Exec: case 1\n",
      "Exec: case 2\n",
      "Exec: case 2\n",
      "[1, 2, 3]\n",
      "case 2: 2 or more than 2 node\n",
      "case 2: 2 or more than 2 node\n",
      "3\n",
      "case 2: 2 or more than 2 node\n",
      "2\n",
      "case 1: only one node\n",
      "1\n",
      "[]\n"
     ]
    }
   ],
   "source": [
    "# Testing\n",
    "l = linkedList()\n",
    "l.push(1)\n",
    "l.push(2)\n",
    "l.push(3)\n",
    "print(l)  # Output: [1, 2, 3]\n",
    "\n",
    "print(l.pop())\n",
    "print(l.pop())\n",
    "\n",
    "print(l.pop())  # Output: 1\n",
    "print(l)\n"
   ]
  },
  {
   "cell_type": "code",
   "execution_count": null,
   "metadata": {},
   "outputs": [],
   "source": []
  },
  {
   "cell_type": "code",
   "execution_count": 14,
   "metadata": {},
   "outputs": [
    {
     "name": "stdout",
     "output_type": "stream",
     "text": [
      "1\n"
     ]
    }
   ],
   "source": [
    "fac=1\n",
    "while i<=4:\n",
    "    fac *= i\n",
    "\n",
    "print(fac)"
   ]
  },
  {
   "cell_type": "code",
   "execution_count": null,
   "metadata": {},
   "outputs": [],
   "source": []
  }
 ],
 "metadata": {
  "kernelspec": {
   "display_name": "Python 3",
   "language": "python",
   "name": "python3"
  },
  "language_info": {
   "codemirror_mode": {
    "name": "ipython",
    "version": 3
   },
   "file_extension": ".py",
   "mimetype": "text/x-python",
   "name": "python",
   "nbconvert_exporter": "python",
   "pygments_lexer": "ipython3",
   "version": "3.13.3"
  }
 },
 "nbformat": 4,
 "nbformat_minor": 2
}
