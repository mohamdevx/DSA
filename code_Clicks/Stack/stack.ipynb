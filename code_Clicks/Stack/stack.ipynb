{
 "cells": [
  {
   "cell_type": "code",
   "execution_count": null,
   "metadata": {},
   "outputs": [],
   "source": [
    "#include <iostream>\n",
    "#include <fstream> // For file handling\n",
    "\n",
    "// Open a file in write mode\n",
    "std::ofstream file(\"hello.txt\", std::ios::out);\n",
    "\n",
    "if (file.is_open()) {\n",
    "    // Write \"hello\" to the file\n",
    "    file << \"hello\";\n",
    "    file.close(); // Close the file\n",
    "    std::cout << \"File written successfully!\" << std::endl;\n",
    "} else {\n",
    "    std::cerr << \"Error opening file!\" << std::endl;\n",
    "}"
   ]
  },
  {
   "cell_type": "code",
   "execution_count": null,
   "metadata": {},
   "outputs": [],
   "source": []
  }
 ],
 "metadata": {
  "language_info": {
   "name": "python"
  }
 },
 "nbformat": 4,
 "nbformat_minor": 2
}
